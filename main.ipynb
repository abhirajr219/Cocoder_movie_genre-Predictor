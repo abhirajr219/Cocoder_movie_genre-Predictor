{
  "cells": [
    {
      "cell_type": "markdown",
      "metadata": {
        "id": "view-in-github",
        "colab_type": "text"
      },
      "source": [
        "<a href=\"https://colab.research.google.com/github/abhirajr219/Cocoder_movie_genre-Predictor/blob/main/main.ipynb\" target=\"_parent\"><img src=\"https://colab.research.google.com/assets/colab-badge.svg\" alt=\"Open In Colab\"/></a>"
      ]
    },
    {
      "cell_type": "code",
      "execution_count": null,
      "metadata": {
        "id": "YhO1I5UMxN1O"
      },
      "outputs": [],
      "source": [
        "!pip install colabcode\n",
        "\n",
        "!pip install wikipedia\n",
        "\n",
        "!pip install pyngrok nest_asyncio fastapi uvicorn loguru"
      ]
    },
    {
      "cell_type": "code",
      "source": [
        "!pip install typing"
      ],
      "metadata": {
        "id": "PKXPIiQPxBDR"
      },
      "execution_count": null,
      "outputs": []
    },
    {
      "cell_type": "code",
      "execution_count": null,
      "metadata": {
        "id": "e3Ry_ithxeEk"
      },
      "outputs": [],
      "source": [
        "from google.colab import drive\n",
        "drive.mount('/content/drive')"
      ]
    },
    {
      "cell_type": "code",
      "source": [
        "pip install sklearn"
      ],
      "metadata": {
        "id": "FztKOtlZtsvf"
      },
      "execution_count": null,
      "outputs": []
    },
    {
      "cell_type": "code",
      "execution_count": null,
      "metadata": {
        "id": "PWJztzWKxrkq"
      },
      "outputs": [],
      "source": [
        "!pip install pydantic"
      ]
    },
    {
      "cell_type": "code",
      "source": [
        "from pyngrok import ngrok\n",
        "ngrok.set_auth_token(\"26ByyAjyiwDZ6S19WQd4y8gXwBh_6ztjmj4cFd68UxEAuH6hC\")"
      ],
      "metadata": {
        "id": "cE5FA9fIt5wI"
      },
      "execution_count": null,
      "outputs": []
    },
    {
      "cell_type": "code",
      "execution_count": null,
      "metadata": {
        "id": "3CEDpQ9Bx_OU"
      },
      "outputs": [],
      "source": [
        "from colabcode import ColabCode\n",
        "from fastapi import FastAPI"
      ]
    },
    {
      "cell_type": "code",
      "execution_count": null,
      "metadata": {
        "id": "QuNSZyPEyGto"
      },
      "outputs": [],
      "source": [
        "cc=ColabCode(port=12000,code=False)"
      ]
    },
    {
      "cell_type": "code",
      "execution_count": null,
      "metadata": {
        "id": "kmuon9b_yNp_"
      },
      "outputs": [],
      "source": [
        " %%writefile models.py\n",
        " from pydantic import BaseModel,conlist\n",
        " from typing import List\n",
        "\n",
        " class request_body(BaseModel):\n",
        "   data: List[conlist(str,min_items=1,max_items=1)]"
      ]
    },
    {
      "cell_type": "code",
      "execution_count": null,
      "metadata": {
        "id": "jGx84rg6yUqH"
      },
      "outputs": [],
      "source": [
        "import nltk\n",
        "nltk.download('stopwords')\n",
        "from nltk.corpus import stopwords\n",
        "from nltk.stem.porter import PorterStemmer\n",
        "import re\n",
        "import pickle\n",
        "import logging\n",
        "from models import request_body\n",
        "import wikipedia\n",
        "import numpy as np\n",
        "app=FastAPI(title=\"Movie Genre Preditor\")\n",
        "\n",
        "my_logger = logging.getLogger()\n",
        "my_logger.setLevel(logging.DEBUG)\n",
        "logging.basicConfig(level=logging.DEBUG, filename='logs.log')\n",
        "\n",
        "\n",
        "model=None\n",
        "\n",
        "@app.on_event(\"startup\")\n",
        "def load_model():\n",
        "  global model\n",
        "  model=pickle.load(open(\"/content/drive/MyDrive/AI/movie1.pkl\",\"rb\"))\n",
        "@app.get(\"/readroot\")\n",
        "async def Owners():\n",
        "  return {\"Owners \":\"Jayalekshmi & Abhiraj\"}\n",
        "\n",
        "@app.post(\"/\", tags=[\"prediction\"])\n",
        "async def get_prediction(iris: request_body):\n",
        "    data=dict(iris)['data']  \n",
        "    print(iris)\n",
        "    try:\n",
        "        try:\n",
        "             plot=wikipedia.page(data[0][0]+\" \"+\"movie\").content[0:5500]\n",
        "             print(plot,data)\n",
        "        except: \n",
        "             plot=wikipedia.page(data[0][0]).content[0:5500]\n",
        "             print(plot,data)\n",
        "    \n",
        "        def genre_prediction(sample_script):\n",
        "              sample_script = re.sub(pattern='[^a-zA-Z]',repl=' ', string=sample_script)\n",
        "              sample_script = sample_script.lower()\n",
        "              sample_script_words = sample_script.split()\n",
        "              sample_script_words = [word for word in sample_script_words if not word in set(stopwords.words('english'))]\n",
        "              ps = PorterStemmer()\n",
        "              final_script = [ps.stem(word) for word in sample_script_words]\n",
        "              final_script = ' '.join(final_script)\n",
        "              from sklearn.feature_extraction.text import CountVectorizer\n",
        "              cv = CountVectorizer(max_features=300, ngram_range=(1,2))\n",
        "              temp = cv.fit_transform([final_script]).toarray()\n",
        "              return temp\n",
        "\n",
        "        test_value=genre_prediction(plot)\n",
        "        value=(model.predict(test_value))\n",
        "        genre_mapper = {'other': 0, 'action': 1, 'adventure': 2, 'comedy':3,'drama':4, 'horror':5, 'romance':6, 'sci-fi':7, 'thriller': 8}\n",
        "\n",
        "        return('Prediction: {}'.format(list(genre_mapper.keys())[value[0]]))\n",
        "  \n",
        "    except:\n",
        "      \n",
        "        return {\"prediction\": \"Something went wrong in finding the movie!.Try giving more specific name of the movie/add word <Movie> to the Search data or try adding year!!!\"}\n"
      ]
    },
    {
      "cell_type": "code",
      "source": [
        "cc.run_app(app=app)"
      ],
      "metadata": {
        "id": "6L6Khyvt70z5"
      },
      "execution_count": null,
      "outputs": []
    },
    {
      "cell_type": "code",
      "source": [
        ""
      ],
      "metadata": {
        "id": "jm_pB4B1NqgC"
      },
      "execution_count": null,
      "outputs": []
    }
  ],
  "metadata": {
    "colab": {
      "name": "main.ipynb",
      "provenance": [],
      "collapsed_sections": [],
      "private_outputs": true,
      "authorship_tag": "ABX9TyPzrgQhz79awPQ0dq/l61sf",
      "include_colab_link": true
    },
    "kernelspec": {
      "display_name": "Python 3",
      "name": "python3"
    },
    "language_info": {
      "name": "python"
    }
  },
  "nbformat": 4,
  "nbformat_minor": 0
}