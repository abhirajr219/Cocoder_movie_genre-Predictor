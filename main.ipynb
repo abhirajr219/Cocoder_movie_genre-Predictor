{
  "cells": [
    {
      "cell_type": "markdown",
      "metadata": {
        "id": "view-in-github",
        "colab_type": "text"
      },
      "source": [
        "<a href=\"https://colab.research.google.com/github/abhirajr219/Cocoder_movie_genre-Predictor/blob/main/main.ipynb\" target=\"_parent\"><img src=\"https://colab.research.google.com/assets/colab-badge.svg\" alt=\"Open In Colab\"/></a>"
      ]
    },
    {
      "cell_type": "code",
      "execution_count": 1,
      "metadata": {
        "colab": {
          "base_uri": "https://localhost:8080/"
        },
        "id": "YhO1I5UMxN1O",
        "outputId": "3ac07caa-8c0c-4748-adbc-f2f919b0c696"
      },
      "outputs": [
        {
          "output_type": "stream",
          "name": "stdout",
          "text": [
            "Requirement already satisfied: colabcode in /usr/local/lib/python3.7/dist-packages (0.3.0)\n",
            "Requirement already satisfied: jupyterlab==3.0.7 in /usr/local/lib/python3.7/dist-packages (from colabcode) (3.0.7)\n",
            "Requirement already satisfied: pyngrok>=5.0.0 in /usr/local/lib/python3.7/dist-packages (from colabcode) (5.1.0)\n",
            "Requirement already satisfied: uvicorn==0.13.1 in /usr/local/lib/python3.7/dist-packages (from colabcode) (0.13.1)\n",
            "Requirement already satisfied: nest-asyncio==1.4.3 in /usr/local/lib/python3.7/dist-packages (from colabcode) (1.4.3)\n",
            "Requirement already satisfied: nbclassic~=0.2 in /usr/local/lib/python3.7/dist-packages (from jupyterlab==3.0.7->colabcode) (0.3.6)\n",
            "Requirement already satisfied: packaging in /usr/local/lib/python3.7/dist-packages (from jupyterlab==3.0.7->colabcode) (21.3)\n",
            "Requirement already satisfied: tornado>=6.1.0 in /usr/local/lib/python3.7/dist-packages (from jupyterlab==3.0.7->colabcode) (6.1)\n",
            "Requirement already satisfied: jinja2>=2.10 in /usr/local/lib/python3.7/dist-packages (from jupyterlab==3.0.7->colabcode) (2.11.3)\n",
            "Requirement already satisfied: jupyterlab-server~=2.0 in /usr/local/lib/python3.7/dist-packages (from jupyterlab==3.0.7->colabcode) (2.10.3)\n",
            "Requirement already satisfied: jupyter-core in /usr/local/lib/python3.7/dist-packages (from jupyterlab==3.0.7->colabcode) (4.9.2)\n",
            "Requirement already satisfied: jupyter-server~=1.2 in /usr/local/lib/python3.7/dist-packages (from jupyterlab==3.0.7->colabcode) (1.13.5)\n",
            "Requirement already satisfied: ipython in /usr/local/lib/python3.7/dist-packages (from jupyterlab==3.0.7->colabcode) (5.5.0)\n",
            "Requirement already satisfied: click==7.* in /usr/local/lib/python3.7/dist-packages (from uvicorn==0.13.1->colabcode) (7.1.2)\n",
            "Requirement already satisfied: h11>=0.8 in /usr/local/lib/python3.7/dist-packages (from uvicorn==0.13.1->colabcode) (0.13.0)\n",
            "Requirement already satisfied: typing-extensions in /usr/local/lib/python3.7/dist-packages (from uvicorn==0.13.1->colabcode) (3.10.0.2)\n",
            "Requirement already satisfied: MarkupSafe>=0.23 in /usr/local/lib/python3.7/dist-packages (from jinja2>=2.10->jupyterlab==3.0.7->colabcode) (2.0.1)\n",
            "Requirement already satisfied: nbformat in /usr/local/lib/python3.7/dist-packages (from jupyter-server~=1.2->jupyterlab==3.0.7->colabcode) (5.1.3)\n",
            "Requirement already satisfied: argon2-cffi in /usr/local/lib/python3.7/dist-packages (from jupyter-server~=1.2->jupyterlab==3.0.7->colabcode) (21.3.0)\n",
            "Requirement already satisfied: prometheus-client in /usr/local/lib/python3.7/dist-packages (from jupyter-server~=1.2->jupyterlab==3.0.7->colabcode) (0.13.1)\n",
            "Requirement already satisfied: traitlets>=5 in /usr/local/lib/python3.7/dist-packages (from jupyter-server~=1.2->jupyterlab==3.0.7->colabcode) (5.1.1)\n",
            "Requirement already satisfied: Send2Trash in /usr/local/lib/python3.7/dist-packages (from jupyter-server~=1.2->jupyterlab==3.0.7->colabcode) (1.8.0)\n",
            "Requirement already satisfied: jupyter-client>=6.1.1 in /usr/local/lib/python3.7/dist-packages (from jupyter-server~=1.2->jupyterlab==3.0.7->colabcode) (6.1.12)\n",
            "Requirement already satisfied: anyio<4,>=3.1.0 in /usr/local/lib/python3.7/dist-packages (from jupyter-server~=1.2->jupyterlab==3.0.7->colabcode) (3.5.0)\n",
            "Requirement already satisfied: pyzmq>=17 in /usr/local/lib/python3.7/dist-packages (from jupyter-server~=1.2->jupyterlab==3.0.7->colabcode) (22.3.0)\n",
            "Requirement already satisfied: websocket-client in /usr/local/lib/python3.7/dist-packages (from jupyter-server~=1.2->jupyterlab==3.0.7->colabcode) (1.3.1)\n",
            "Requirement already satisfied: ipython-genutils in /usr/local/lib/python3.7/dist-packages (from jupyter-server~=1.2->jupyterlab==3.0.7->colabcode) (0.2.0)\n",
            "Requirement already satisfied: nbconvert in /usr/local/lib/python3.7/dist-packages (from jupyter-server~=1.2->jupyterlab==3.0.7->colabcode) (5.6.1)\n",
            "Requirement already satisfied: terminado>=0.8.3 in /usr/local/lib/python3.7/dist-packages (from jupyter-server~=1.2->jupyterlab==3.0.7->colabcode) (0.13.1)\n",
            "Requirement already satisfied: idna>=2.8 in /usr/local/lib/python3.7/dist-packages (from anyio<4,>=3.1.0->jupyter-server~=1.2->jupyterlab==3.0.7->colabcode) (2.10)\n",
            "Requirement already satisfied: sniffio>=1.1 in /usr/local/lib/python3.7/dist-packages (from anyio<4,>=3.1.0->jupyter-server~=1.2->jupyterlab==3.0.7->colabcode) (1.2.0)\n",
            "Requirement already satisfied: python-dateutil>=2.1 in /usr/local/lib/python3.7/dist-packages (from jupyter-client>=6.1.1->jupyter-server~=1.2->jupyterlab==3.0.7->colabcode) (2.8.2)\n",
            "Requirement already satisfied: entrypoints>=0.2.2 in /usr/local/lib/python3.7/dist-packages (from jupyterlab-server~=2.0->jupyterlab==3.0.7->colabcode) (0.4)\n",
            "Requirement already satisfied: json5 in /usr/local/lib/python3.7/dist-packages (from jupyterlab-server~=2.0->jupyterlab==3.0.7->colabcode) (0.9.6)\n",
            "Requirement already satisfied: requests in /usr/local/lib/python3.7/dist-packages (from jupyterlab-server~=2.0->jupyterlab==3.0.7->colabcode) (2.23.0)\n",
            "Requirement already satisfied: babel in /usr/local/lib/python3.7/dist-packages (from jupyterlab-server~=2.0->jupyterlab==3.0.7->colabcode) (2.9.1)\n",
            "Requirement already satisfied: jsonschema>=3.0.1 in /usr/local/lib/python3.7/dist-packages (from jupyterlab-server~=2.0->jupyterlab==3.0.7->colabcode) (4.3.3)\n",
            "Requirement already satisfied: attrs>=17.4.0 in /usr/local/lib/python3.7/dist-packages (from jsonschema>=3.0.1->jupyterlab-server~=2.0->jupyterlab==3.0.7->colabcode) (21.4.0)\n",
            "Requirement already satisfied: importlib-resources>=1.4.0 in /usr/local/lib/python3.7/dist-packages (from jsonschema>=3.0.1->jupyterlab-server~=2.0->jupyterlab==3.0.7->colabcode) (5.4.0)\n",
            "Requirement already satisfied: importlib-metadata in /usr/local/lib/python3.7/dist-packages (from jsonschema>=3.0.1->jupyterlab-server~=2.0->jupyterlab==3.0.7->colabcode) (4.11.2)\n",
            "Requirement already satisfied: pyrsistent!=0.17.0,!=0.17.1,!=0.17.2,>=0.14.0 in /usr/local/lib/python3.7/dist-packages (from jsonschema>=3.0.1->jupyterlab-server~=2.0->jupyterlab==3.0.7->colabcode) (0.18.1)\n",
            "Requirement already satisfied: zipp>=3.1.0 in /usr/local/lib/python3.7/dist-packages (from importlib-resources>=1.4.0->jsonschema>=3.0.1->jupyterlab-server~=2.0->jupyterlab==3.0.7->colabcode) (3.7.0)\n",
            "Requirement already satisfied: notebook<7 in /usr/local/lib/python3.7/dist-packages (from nbclassic~=0.2->jupyterlab==3.0.7->colabcode) (5.3.1)\n",
            "Requirement already satisfied: notebook-shim>=0.1.0 in /usr/local/lib/python3.7/dist-packages (from nbclassic~=0.2->jupyterlab==3.0.7->colabcode) (0.1.0)\n",
            "Requirement already satisfied: ipykernel in /usr/local/lib/python3.7/dist-packages (from notebook<7->nbclassic~=0.2->jupyterlab==3.0.7->colabcode) (4.10.1)\n",
            "Requirement already satisfied: PyYAML in /usr/local/lib/python3.7/dist-packages (from pyngrok>=5.0.0->colabcode) (3.13)\n",
            "Requirement already satisfied: six>=1.5 in /usr/local/lib/python3.7/dist-packages (from python-dateutil>=2.1->jupyter-client>=6.1.1->jupyter-server~=1.2->jupyterlab==3.0.7->colabcode) (1.15.0)\n",
            "Requirement already satisfied: ptyprocess in /usr/local/lib/python3.7/dist-packages (from terminado>=0.8.3->jupyter-server~=1.2->jupyterlab==3.0.7->colabcode) (0.7.0)\n",
            "Requirement already satisfied: argon2-cffi-bindings in /usr/local/lib/python3.7/dist-packages (from argon2-cffi->jupyter-server~=1.2->jupyterlab==3.0.7->colabcode) (21.2.0)\n",
            "Requirement already satisfied: cffi>=1.0.1 in /usr/local/lib/python3.7/dist-packages (from argon2-cffi-bindings->argon2-cffi->jupyter-server~=1.2->jupyterlab==3.0.7->colabcode) (1.15.0)\n",
            "Requirement already satisfied: pycparser in /usr/local/lib/python3.7/dist-packages (from cffi>=1.0.1->argon2-cffi-bindings->argon2-cffi->jupyter-server~=1.2->jupyterlab==3.0.7->colabcode) (2.21)\n",
            "Requirement already satisfied: pytz>=2015.7 in /usr/local/lib/python3.7/dist-packages (from babel->jupyterlab-server~=2.0->jupyterlab==3.0.7->colabcode) (2018.9)\n",
            "Requirement already satisfied: prompt-toolkit<2.0.0,>=1.0.4 in /usr/local/lib/python3.7/dist-packages (from ipython->jupyterlab==3.0.7->colabcode) (1.0.18)\n",
            "Requirement already satisfied: pexpect in /usr/local/lib/python3.7/dist-packages (from ipython->jupyterlab==3.0.7->colabcode) (4.8.0)\n",
            "Requirement already satisfied: decorator in /usr/local/lib/python3.7/dist-packages (from ipython->jupyterlab==3.0.7->colabcode) (4.4.2)\n",
            "Requirement already satisfied: pickleshare in /usr/local/lib/python3.7/dist-packages (from ipython->jupyterlab==3.0.7->colabcode) (0.7.5)\n",
            "Requirement already satisfied: simplegeneric>0.8 in /usr/local/lib/python3.7/dist-packages (from ipython->jupyterlab==3.0.7->colabcode) (0.8.1)\n",
            "Requirement already satisfied: setuptools>=18.5 in /usr/local/lib/python3.7/dist-packages (from ipython->jupyterlab==3.0.7->colabcode) (57.4.0)\n",
            "Requirement already satisfied: pygments in /usr/local/lib/python3.7/dist-packages (from ipython->jupyterlab==3.0.7->colabcode) (2.6.1)\n",
            "Requirement already satisfied: wcwidth in /usr/local/lib/python3.7/dist-packages (from prompt-toolkit<2.0.0,>=1.0.4->ipython->jupyterlab==3.0.7->colabcode) (0.2.5)\n",
            "Requirement already satisfied: pandocfilters>=1.4.1 in /usr/local/lib/python3.7/dist-packages (from nbconvert->jupyter-server~=1.2->jupyterlab==3.0.7->colabcode) (1.5.0)\n",
            "Requirement already satisfied: defusedxml in /usr/local/lib/python3.7/dist-packages (from nbconvert->jupyter-server~=1.2->jupyterlab==3.0.7->colabcode) (0.7.1)\n",
            "Requirement already satisfied: mistune<2,>=0.8.1 in /usr/local/lib/python3.7/dist-packages (from nbconvert->jupyter-server~=1.2->jupyterlab==3.0.7->colabcode) (0.8.4)\n",
            "Requirement already satisfied: testpath in /usr/local/lib/python3.7/dist-packages (from nbconvert->jupyter-server~=1.2->jupyterlab==3.0.7->colabcode) (0.6.0)\n",
            "Requirement already satisfied: bleach in /usr/local/lib/python3.7/dist-packages (from nbconvert->jupyter-server~=1.2->jupyterlab==3.0.7->colabcode) (4.1.0)\n",
            "Requirement already satisfied: webencodings in /usr/local/lib/python3.7/dist-packages (from bleach->nbconvert->jupyter-server~=1.2->jupyterlab==3.0.7->colabcode) (0.5.1)\n",
            "Requirement already satisfied: pyparsing!=3.0.5,>=2.0.2 in /usr/local/lib/python3.7/dist-packages (from packaging->jupyterlab==3.0.7->colabcode) (3.0.7)\n",
            "Requirement already satisfied: certifi>=2017.4.17 in /usr/local/lib/python3.7/dist-packages (from requests->jupyterlab-server~=2.0->jupyterlab==3.0.7->colabcode) (2021.10.8)\n",
            "Requirement already satisfied: urllib3!=1.25.0,!=1.25.1,<1.26,>=1.21.1 in /usr/local/lib/python3.7/dist-packages (from requests->jupyterlab-server~=2.0->jupyterlab==3.0.7->colabcode) (1.24.3)\n",
            "Requirement already satisfied: chardet<4,>=3.0.2 in /usr/local/lib/python3.7/dist-packages (from requests->jupyterlab-server~=2.0->jupyterlab==3.0.7->colabcode) (3.0.4)\n",
            "Requirement already satisfied: wikipedia in /usr/local/lib/python3.7/dist-packages (1.4.0)\n",
            "Requirement already satisfied: beautifulsoup4 in /usr/local/lib/python3.7/dist-packages (from wikipedia) (4.6.3)\n",
            "Requirement already satisfied: requests<3.0.0,>=2.0.0 in /usr/local/lib/python3.7/dist-packages (from wikipedia) (2.23.0)\n",
            "Requirement already satisfied: certifi>=2017.4.17 in /usr/local/lib/python3.7/dist-packages (from requests<3.0.0,>=2.0.0->wikipedia) (2021.10.8)\n",
            "Requirement already satisfied: chardet<4,>=3.0.2 in /usr/local/lib/python3.7/dist-packages (from requests<3.0.0,>=2.0.0->wikipedia) (3.0.4)\n",
            "Requirement already satisfied: urllib3!=1.25.0,!=1.25.1,<1.26,>=1.21.1 in /usr/local/lib/python3.7/dist-packages (from requests<3.0.0,>=2.0.0->wikipedia) (1.24.3)\n",
            "Requirement already satisfied: idna<3,>=2.5 in /usr/local/lib/python3.7/dist-packages (from requests<3.0.0,>=2.0.0->wikipedia) (2.10)\n",
            "Requirement already satisfied: pyngrok in /usr/local/lib/python3.7/dist-packages (5.1.0)\n",
            "Requirement already satisfied: nest_asyncio in /usr/local/lib/python3.7/dist-packages (1.4.3)\n",
            "Requirement already satisfied: fastapi in /usr/local/lib/python3.7/dist-packages (0.75.0)\n",
            "Requirement already satisfied: uvicorn in /usr/local/lib/python3.7/dist-packages (0.13.1)\n",
            "Requirement already satisfied: loguru in /usr/local/lib/python3.7/dist-packages (0.6.0)\n",
            "Requirement already satisfied: PyYAML in /usr/local/lib/python3.7/dist-packages (from pyngrok) (3.13)\n",
            "Requirement already satisfied: starlette==0.17.1 in /usr/local/lib/python3.7/dist-packages (from fastapi) (0.17.1)\n",
            "Requirement already satisfied: pydantic!=1.7,!=1.7.1,!=1.7.2,!=1.7.3,!=1.8,!=1.8.1,<2.0.0,>=1.6.2 in /usr/local/lib/python3.7/dist-packages (from fastapi) (1.9.0)\n",
            "Requirement already satisfied: typing-extensions in /usr/local/lib/python3.7/dist-packages (from starlette==0.17.1->fastapi) (3.10.0.2)\n",
            "Requirement already satisfied: anyio<4,>=3.0.0 in /usr/local/lib/python3.7/dist-packages (from starlette==0.17.1->fastapi) (3.5.0)\n",
            "Requirement already satisfied: sniffio>=1.1 in /usr/local/lib/python3.7/dist-packages (from anyio<4,>=3.0.0->starlette==0.17.1->fastapi) (1.2.0)\n",
            "Requirement already satisfied: idna>=2.8 in /usr/local/lib/python3.7/dist-packages (from anyio<4,>=3.0.0->starlette==0.17.1->fastapi) (2.10)\n",
            "Requirement already satisfied: click==7.* in /usr/local/lib/python3.7/dist-packages (from uvicorn) (7.1.2)\n",
            "Requirement already satisfied: h11>=0.8 in /usr/local/lib/python3.7/dist-packages (from uvicorn) (0.13.0)\n"
          ]
        }
      ],
      "source": [
        "!pip install colabcode\n",
        "\n",
        "!pip install wikipedia\n",
        "\n",
        "!pip install pyngrok nest_asyncio fastapi uvicorn loguru"
      ]
    },
    {
      "cell_type": "code",
      "source": [
        "!pip install typing"
      ],
      "metadata": {
        "colab": {
          "base_uri": "https://localhost:8080/",
          "height": 297
        },
        "id": "PKXPIiQPxBDR",
        "outputId": "43931085-d6e4-4e32-be4e-3d9ddf867e1d"
      },
      "execution_count": 13,
      "outputs": [
        {
          "output_type": "stream",
          "name": "stdout",
          "text": [
            "Collecting typing\n",
            "  Downloading typing-3.7.4.3.tar.gz (78 kB)\n",
            "\u001b[?25l\r\u001b[K     |████▏                           | 10 kB 17.5 MB/s eta 0:00:01\r\u001b[K     |████████▍                       | 20 kB 22.5 MB/s eta 0:00:01\r\u001b[K     |████████████▌                   | 30 kB 19.2 MB/s eta 0:00:01\r\u001b[K     |████████████████▊               | 40 kB 7.9 MB/s eta 0:00:01\r\u001b[K     |████████████████████▉           | 51 kB 6.1 MB/s eta 0:00:01\r\u001b[K     |█████████████████████████       | 61 kB 7.1 MB/s eta 0:00:01\r\u001b[K     |█████████████████████████████▏  | 71 kB 8.2 MB/s eta 0:00:01\r\u001b[K     |████████████████████████████████| 78 kB 4.2 MB/s \n",
            "\u001b[?25hBuilding wheels for collected packages: typing\n",
            "  Building wheel for typing (setup.py) ... \u001b[?25l\u001b[?25hdone\n",
            "  Created wheel for typing: filename=typing-3.7.4.3-py3-none-any.whl size=26325 sha256=65eee28e830f947a69d07b06905ffe4ef7df68120a45c12ed1aed1bd26af354b\n",
            "  Stored in directory: /root/.cache/pip/wheels/35/f3/15/01aa6571f0a72ee6ae7b827c1491c37a1f72d686fd22b43b0e\n",
            "Successfully built typing\n",
            "Installing collected packages: typing\n",
            "Successfully installed typing-3.7.4.3\n"
          ]
        },
        {
          "output_type": "display_data",
          "data": {
            "application/vnd.colab-display-data+json": {
              "pip_warning": {
                "packages": [
                  "typing"
                ]
              }
            }
          },
          "metadata": {}
        }
      ]
    },
    {
      "cell_type": "code",
      "execution_count": 26,
      "metadata": {
        "colab": {
          "base_uri": "https://localhost:8080/"
        },
        "id": "e3Ry_ithxeEk",
        "outputId": "8090a756-8329-4713-87ae-f94bba53811a"
      },
      "outputs": [
        {
          "output_type": "stream",
          "name": "stdout",
          "text": [
            "Drive already mounted at /content/drive; to attempt to forcibly remount, call drive.mount(\"/content/drive\", force_remount=True).\n"
          ]
        }
      ],
      "source": [
        "from google.colab import drive\n",
        "drive.mount('/content/drive')"
      ]
    },
    {
      "cell_type": "code",
      "source": [
        "pip install sklearn"
      ],
      "metadata": {
        "colab": {
          "base_uri": "https://localhost:8080/"
        },
        "id": "FztKOtlZtsvf",
        "outputId": "4887f46f-7adf-48d9-b274-9c21762f1f44"
      },
      "execution_count": 3,
      "outputs": [
        {
          "output_type": "stream",
          "name": "stdout",
          "text": [
            "Requirement already satisfied: sklearn in /usr/local/lib/python3.7/dist-packages (0.0)\n",
            "Requirement already satisfied: scikit-learn in /usr/local/lib/python3.7/dist-packages (from sklearn) (1.0.2)\n",
            "Requirement already satisfied: threadpoolctl>=2.0.0 in /usr/local/lib/python3.7/dist-packages (from scikit-learn->sklearn) (3.1.0)\n",
            "Requirement already satisfied: numpy>=1.14.6 in /usr/local/lib/python3.7/dist-packages (from scikit-learn->sklearn) (1.21.5)\n",
            "Requirement already satisfied: joblib>=0.11 in /usr/local/lib/python3.7/dist-packages (from scikit-learn->sklearn) (1.1.0)\n",
            "Requirement already satisfied: scipy>=1.1.0 in /usr/local/lib/python3.7/dist-packages (from scikit-learn->sklearn) (1.4.1)\n"
          ]
        }
      ]
    },
    {
      "cell_type": "code",
      "execution_count": 4,
      "metadata": {
        "colab": {
          "base_uri": "https://localhost:8080/"
        },
        "id": "PWJztzWKxrkq",
        "outputId": "b3de391c-384c-47dc-babb-31b16477273d"
      },
      "outputs": [
        {
          "output_type": "stream",
          "name": "stdout",
          "text": [
            "Requirement already satisfied: pydantic in /usr/local/lib/python3.7/dist-packages (1.9.0)\n",
            "Requirement already satisfied: typing-extensions>=3.7.4.3 in /usr/local/lib/python3.7/dist-packages (from pydantic) (3.10.0.2)\n"
          ]
        }
      ],
      "source": [
        "!pip install pydantic"
      ]
    },
    {
      "cell_type": "code",
      "source": [
        "from pyngrok import ngrok\n",
        "ngrok.set_auth_token(\"26ByyAjyiwDZ6S19WQd4y8gXwBh_6ztjmj4cFd68UxEAuH6hC\")"
      ],
      "metadata": {
        "colab": {
          "base_uri": "https://localhost:8080/"
        },
        "id": "cE5FA9fIt5wI",
        "outputId": "79bf82d7-99b2-4894-f547-664b3794fcd7"
      },
      "execution_count": null,
      "outputs": [
        {
          "output_type": "stream",
          "name": "stdout",
          "text": [
            ""
          ]
        }
      ]
    },
    {
      "cell_type": "code",
      "execution_count": 5,
      "metadata": {
        "id": "3CEDpQ9Bx_OU"
      },
      "outputs": [],
      "source": [
        "from colabcode import ColabCode\n",
        "from fastapi import FastAPI"
      ]
    },
    {
      "cell_type": "code",
      "execution_count": 6,
      "metadata": {
        "id": "QuNSZyPEyGto"
      },
      "outputs": [],
      "source": [
        "cc=ColabCode(port=12000,code=False)"
      ]
    },
    {
      "cell_type": "code",
      "execution_count": 62,
      "metadata": {
        "colab": {
          "base_uri": "https://localhost:8080/"
        },
        "id": "kmuon9b_yNp_",
        "outputId": "980666fe-e903-40db-930c-042c2ef91081"
      },
      "outputs": [
        {
          "output_type": "stream",
          "name": "stdout",
          "text": [
            "Overwriting models.py\n"
          ]
        }
      ],
      "source": [
        " %%writefile models.py\n",
        " from pydantic import BaseModel,conlist\n",
        " from typing import List\n",
        "\n",
        " class request_body(BaseModel):\n",
        "   data: List[conlist(str,min_items=1,max_items=1)]"
      ]
    },
    {
      "cell_type": "code",
      "execution_count": 73,
      "metadata": {
        "colab": {
          "base_uri": "https://localhost:8080/"
        },
        "id": "jGx84rg6yUqH",
        "outputId": "90ad2c1b-29a7-4f38-817f-97cb23d43aa6"
      },
      "outputs": [
        {
          "output_type": "stream",
          "name": "stdout",
          "text": [
            "[nltk_data] Downloading package stopwords to /root/nltk_data...\n",
            "[nltk_data]   Package stopwords is already up-to-date!\n"
          ]
        }
      ],
      "source": [
        "import nltk\n",
        "nltk.download('stopwords')\n",
        "from nltk.corpus import stopwords\n",
        "from nltk.stem.porter import PorterStemmer\n",
        "import re\n",
        "import pickle\n",
        "import logging\n",
        "from models import request_body\n",
        "import wikipedia\n",
        "import numpy as np\n",
        "app=FastAPI(title=\"Movie Genre Preditor\")\n",
        "\n",
        "my_logger = logging.getLogger()\n",
        "my_logger.setLevel(logging.DEBUG)\n",
        "logging.basicConfig(level=logging.DEBUG, filename='logs.log')\n",
        "\n",
        "\n",
        "model=None\n",
        "\n",
        "@app.on_event(\"startup\")\n",
        "def load_model():\n",
        "  global model\n",
        "  model=pickle.load(open(\"/content/drive/MyDrive/AI/movie1.pkl\",\"rb\"))\n",
        "@app.get(\"/readroot\")\n",
        "async def Owners():\n",
        "  return {\"Owners \":\"Jayalekshmi & Abhiraj\"}\n",
        "\n",
        "@app.post(\"/\", tags=[\"prediction\"])\n",
        "async def get_prediction(iris: request_body):\n",
        "    data=dict(iris)['data']  \n",
        "    print(iris)\n",
        "    try:\n",
        "        try:\n",
        "             plot=wikipedia.page(data[0][0]+\" \"+\"movie\").content[0:5500]\n",
        "             print(plot,data)\n",
        "        except: \n",
        "             plot=wikipedia.page(data[0][0]).content[0:5500]\n",
        "             print(plot,data)\n",
        "    \n",
        "        def genre_prediction(sample_script):\n",
        "              sample_script = re.sub(pattern='[^a-zA-Z]',repl=' ', string=sample_script)\n",
        "              sample_script = sample_script.lower()\n",
        "              sample_script_words = sample_script.split()\n",
        "              sample_script_words = [word for word in sample_script_words if not word in set(stopwords.words('english'))]\n",
        "              ps = PorterStemmer()\n",
        "              final_script = [ps.stem(word) for word in sample_script_words]\n",
        "              final_script = ' '.join(final_script)\n",
        "              from sklearn.feature_extraction.text import CountVectorizer\n",
        "              cv = CountVectorizer(max_features=300, ngram_range=(1,2))\n",
        "              temp = cv.fit_transform([final_script]).toarray()\n",
        "              return temp\n",
        "\n",
        "        test_value=genre_prediction(plot)\n",
        "        value=(model.predict(test_value))\n",
        "        genre_mapper = {'other': 0, 'action': 1, 'adventure': 2, 'comedy':3,'drama':4, 'horror':5, 'romance':6, 'sci-fi':7, 'thriller': 8}\n",
        "\n",
        "        return('Prediction: {}'.format(list(genre_mapper.keys())[value[0]]))\n",
        "  \n",
        "    except:\n",
        "      \n",
        "        return {\"prediction\": \"Something went wrong in finding the movie!.Try giving more specific name of the movie/add word <Movie> to the Search data or try adding year!!!\"}\n"
      ]
    },
    {
      "cell_type": "code",
      "source": [
        "cc.run_app(app=app)"
      ],
      "metadata": {
        "colab": {
          "base_uri": "https://localhost:8080/"
        },
        "id": "6L6Khyvt70z5",
        "outputId": "9f33e489-a37a-4295-d1b6-ec8257742e82"
      },
      "execution_count": null,
      "outputs": [
        {
          "output_type": "stream",
          "name": "stdout",
          "text": [
            "Public URL: NgrokTunnel: \"https://aed3-35-197-125-10.ngrok.io\" -> \"http://localhost:12000\"\n"
          ]
        },
        {
          "output_type": "stream",
          "name": "stderr",
          "text": [
            "INFO:     Started server process [685]\n",
            "INFO:     Waiting for application startup.\n",
            "/usr/local/lib/python3.7/dist-packages/sklearn/base.py:338: UserWarning: Trying to unpickle estimator MultinomialNB from version 0.23.1 when using version 1.0.2. This might lead to breaking code or invalid results. Use at your own risk. For more info please refer to:\n",
            "https://scikit-learn.org/stable/modules/model_persistence.html#security-maintainability-limitations\n",
            "  UserWarning,\n",
            "INFO:     Application startup complete.\n",
            "INFO:     Uvicorn running on http://127.0.0.1:12000 (Press CTRL+C to quit)\n"
          ]
        },
        {
          "output_type": "stream",
          "name": "stdout",
          "text": [
            "INFO:     103.149.158.107:0 - \"GET / HTTP/1.1\" 405 Method Not Allowed\n",
            "INFO:     103.149.158.107:0 - \"GET /favicon.ico HTTP/1.1\" 404 Not Found\n",
            "INFO:     103.149.158.107:0 - \"GET /docs HTTP/1.1\" 200 OK\n",
            "INFO:     103.149.158.107:0 - \"GET /openapi.json HTTP/1.1\" 200 OK\n",
            "data=[['The Hangover Part II']]\n",
            "The Hangover Part II (also known as The Hangover 2: The Wolfpack is Back or The Hangover Again in the working title) is a 2011 American comedy film produced by Legendary Pictures and distributed by Warner Bros. Pictures. It is the sequel to the 2009 film The Hangover and the second installment in The Hangover trilogy. Directed by Todd Phillips, who co-wrote the script with Craig Mazin and Scot Armstrong, the film stars Bradley Cooper, Ed Helms, Zach Galifianakis, Ken Jeong, Jeffrey Tambor, Justin Bartha, and Paul Giamatti.\n",
            "It tells the story of Phil, Stu, Alan, and Doug as they travel to Thailand for Stu's wedding. After the bachelor party in Las Vegas, Stu takes no chances and opts for a safe, subdued pre-wedding brunch. Things do not go as planned, resulting in another bad hangover with no memories of the previous night.\n",
            "Development began in April 2009, two months before The Hangover was released. The principal actors were cast in March 2010 to reprise their roles from the first film. Production began in October 2010, in Ontario, California, before moving on location in Thailand. The film was released on May 26, 2011, and became the highest-grossing R-rated comedy during its theatrical run.\n",
            "A third and final installment, The Hangover Part III, was released on May 23, 2013.\n",
            "\n",
            "\n",
            "== Plot ==\n",
            "Two years after the events in Las Vegas, Stu Price travels to Thailand for his upcoming wedding to Lauren, his fiancée, along with his three best friends Doug Billings, Phil Wenneck, and Alan Garner. Much to Alan's dismay, they are joined by Lauren's younger brother, a Stanford University scholar named Teddy. At the rehearsal dinner, Lauren's father reveals his disapproval of Stu during a toast. Later that night, Stu hesitantly joins Phil, Doug, Alan and Teddy for a beer. Sitting at a campfire and roasting marshmallows, the group toast to Stu and Lauren's future happiness.\n",
            "The following morning, Phil, Stu and Alan awaken in a filthy hotel room in Bangkok. Stu has a face tattoo (a replica of Mike Tyson's) and Alan's head is completely shaved. They meet a chain-smoking capuchin monkey and discover that their old friend, Chinese gangster Leslie Chow, followed them to Thailand on Alan's invitation. They cannot find Teddy, and discover only his severed finger. Chow begins to relay the events of the prior night, but he seemingly dies after snorting a line of cocaine. Panicked, the trio disposes of Chow's body in the hotel's ice box.\n",
            "Through a tip from Doug (who is still at the resort as he left the campfire earlier than the others), they go to a police station to pick up Teddy but are given a wheelchair containing an elderly Buddhist monk. He refuses to reveal anything, having taken a vow of silence. After finding a business card, they travel to the smoldering ruins of the business.\n",
            "They enter a nearby tattoo parlor where Stu got his tattoo, and they learn that they started a fight that escalated into a riot. The trio returns the monk to his temple, where they are encouraged by the head monk to meditate. Alan is able to recall that they had been at a strip club, where they learn that Stu was sodomized by a ladyboy. Upon exiting, the trio is attacked by two Russian mobsters who take the monkey, and one shoots Phil in his arm.\n",
            "After Phil is treated at a clinic, Alan confesses that he had drugged some of the marshmallows from the previous night with muscle relaxers and ADHD medication in order to sedate Teddy, as he feared the others were going to replace him, but accidentally mixed up the bags. Phil and Stu become furious that Alan drugged them again. Stu blames Alan for ruining his life and attacks him, but Phil breaks it up and tells them that they have to stick together. They notice something on Alan's stomach: an address and a time for a meeting. They meet a gangster named Kingsley, who demands Chow's bank account password by the following morning in exchange for Teddy. They return to the hotel to try to find Chow's password, only to discover that he is still alive. They steal the monkey, who had the code given to him and put inside his jacket for safe-keeping by Chow, back from the Russian mobsters through a violent car chase, during which the monkey is shot and injured.\n",
            "After taking the code and leaving the monkey outside a veterinary clinic, the group completes the deal with Kingsley. Interpol agents appear and arrest Chow. Kingsley turns out to be an undercover agent, who tells the trio that he doesn't actually know where Teddy is.\n",
            "Desperate, Phil calls Doug's wife Tracy to tell her they cannot find Teddy. Stu decides to call off the wedding, live in Bangkok and say that Teddy died. During a rolling blackout, Stu realizes where Teddy is. The trio rushes back to the hotel to find Teddy who is in the elevator. Teddy had woken up earlier than the others but became trapped after the power went out. The four use Chow's speedboat to travel back to the wedding reception.\n",
            "Arriving just as Lauren's father is about to cancel the wedding, Stu makes a defiant speech where he rejects being a boring dentist and instead insists he is quite wild. Impressed, Lauren's father gives the couple his blessing. Alan presents Stu with a special gift at the reception: a musical guest performance by Mike Tyson. Teddy later discovers that he had taken many pictures during the night on his cell phone before the battery died. The group, along with Tyson, agree to look at the pictures together once before deleting them. The photos reveal Teddy  [['The Hangover Part II']]\n",
            "INFO:     103.149.158.107:0 - \"POST / HTTP/1.1\" 200 OK\n",
            "data=[['Charle Chaplin']]\n",
            "Dr. Velmurugan Thangasamy Manohar (born 6 March 1960), professionally credited as Charle, is an Indian actor who works in Tamil cinema. He has acted in more than 800 Tamil films as a comedian and supporting actor. He was named after the English comedian Charlie Chaplin.\n",
            "\n",
            "\n",
            "== Biography ==\n",
            "Charle completed his  degree in chemistry from G. V. N. College in Kovilpatti, Tamil Nadu. Even during those days when he was at college, he was known for his histrionics, and had the uncanny ability to imitate Tamil actors like Sivaji Ganesan, Muthuraman and Nagesh. He was an avid entertainer, and a popular stage artist, while at this colcolharle started his career as a Staff Artist – Actor in Song & Drama Division of Ministry of Information and Broadcasting and moved on to perform more than 1000 dramas in six years. He was named as Charlie and introduced in the film Poikkal Kudhirai in the year 1982 by the eminent director Padma Sri Dr.K.Balachandar. He has proved a versatile actor in comedy as well as character roles in Tamil, Telugu and Malayalam films; he has dubbed his own voice in his role in the Malayalam film Hijack (1995). He has more than 800 films to his credit and has played a vital role in many films, including films produced by National Film Development Corporation of India. He is highly talented in miming, mono acting and anchoring in stage shows and he has performed in various countries.\n",
            "Charle holds a Master of Arts degree from Madurai Kamaraj University and Master of Philosophy degree from Karaikkudi Alagappa University. He submitted his dissertation for M.Phil in the title, \"Contributions of Comedians in the growth of Tamil cinema – 1937 to 1967\".Charlie received PhD in Tamil in the topic \"Humour in Tamil Cinema\" from Tamil University, Thanjavur in October 2019. His guide was Professor K Ravindran, former Head of the Drama department, Tamil University.\n",
            "\n",
            "\n",
            "== Awards ==\n",
            "Tamil Nadu State Government Award\n",
            "Film Fans Association, Chennai\n",
            "Best Comedian Award – 1994– 2 times\n",
            "Best Character Artiste Award – 1996\n",
            "Bharath Social & Cultural Academy, Chennai\n",
            "Best Comedian Award – 1998, 1999, 2000 & 2001– 4 times\n",
            "Kalaimamani Award 2004\n",
            "Kalaichchigaram Award 2018\n",
            "\n",
            "\n",
            "== Partial filmography ==\n",
            "Actor\n",
            "Dubbing artistShanmuga Pandian (1999) - MS Narayana\n",
            "Chutti Chathan (2010) - Ravi Vaswani and Jagadeesh\n",
            "\n",
            "\n",
            "== References ==\n",
            "\n",
            "\n",
            "== External links ==\n",
            "Actor Charlie at IMDb [['Charle Chaplin']]\n",
            "INFO:     103.149.158.107:0 - \"POST / HTTP/1.1\" 200 OK\n",
            "data=[['Adventures of Oomakuttan']]\n",
            "INFO:     103.149.158.107:0 - \"POST / HTTP/1.1\" 200 OK\n",
            "data=[['Ozhimuri']]\n",
            "Ozhimuri (transl. Divorce Record) is a 2012 Indian Malayalam-language period drama film, directed by Madhupal and written by Jeyamohan and starring Lal, Mallika, Asif Ali, Bhavana and Shweta Menon in lead roles. The original songs and background score were composed by Bijibal. The film opened to critical acclaim but did not fare well at the box office. It was an official selection in the Indian Panorama section of the 43rd International Film Festival of India. It is widely regarded as one of the defining movies of the Malayalam New Wave.Ozhimuri is based on the story of the book 'Uravidangal' by veteran bilingual writer Jeyamohan. The title of the work refers to the matrilineal system that prevailed in the Nair community in the erstwhile southern Travancore. A prominent feature of the matrilineal system was that properties were enjoyed by successors of the women in the family. The women were educated and bold, with mothers often being stronger than fathers.  They enjoyed freedom in all respects. However, when the system was marginalized in the 1940s, women lost all their powers and soon became 'slaves' in the hands of a feudal male-dominated society. The movie exposes the complexities of a period of transition from a matrilineal to patrilineal society.\"Ozhimuri\" means 'divorce record' in both Tamil and Malayalam. In the matrilineal system, women were free to divorce their husbands if they were not having a sound relationship. The 'ozhimuris' or small palm-leaf pieces recording divorces of couples still stand testimony to the freedom, which women enjoyed those days.\n",
            "\n",
            "\n",
            "== Plot ==\n",
            "The story lays open the ego clashes and complexities of a period through the eyes of its lead character Thanu Pillai (Lal), who witnesses the tale of three women, his mother, wife and son's wife.\n",
            "Fifty-five years old Meenakshi Pillai who is married to Seventy-one years old Thanu Pillai files a for divorce against her husband and ask back the properties he had her transfer to him during the pendency of their marriage. Advocate Balamany who is the defense lawyer tries to convince Meenakshi and her son Sarath Chandran to withdraw the case on various occasions. Sarath tells her that his father was abusive and harsh towards him and his mother. And also tells her about Kali Pillai, Thanu Pillai's mother who was lord of a feudal family which followed matrilineal succession and had considerable power in the local politics and among people. Thanu Pillai was also very harsh towards his mother and even hated the matrilineal system and that's why he married Meenakshi who was from a Nair family which followed patrilineal system. Even though Meenakshi was from a poorer family Kali Pillai loved her and even advised her many times to take a stronger stand against her husband instead of submitting to patriarchy but Meenakshi remained submissive to her husband all through their marriage. Sarath and Balamany slowly develop a relationship.\n",
            "As the case progresses more and more things from the past are revealed from the perspectives of various people in Thanu Pillai's life. Meenakshi lived through these cycle of abuse because she knew that her husband deeply loved his son. It is also revealed that the only reason  Sarath is alive and in good health is because of his father. This reveal make Sarath change his view towards Thanu Pillai. It's also revealed that Sivan Pillai, Thanu Pillai's father was a wrestler who died penniless because Kali Pillai divorced him to live with a younger, educated man. This scarred a young Thanu Pillai deeply and causing him to be harsher towards his mother and become abusive towards his wife even though he loved both of them. Kali Pillai before her death ask Meenakshi to call Thanu Pillai but he refuses to see her, which causes Kali to storm out of the house and die in the streets. Thinking about his mother's death causes Thanu Pillai to suffer a heart attack later, that is a few months ago. After recovering he asks his wife what has caused his mother to leave the home and accuses his wife for hurting his mother and even calls her a slave. This deeply affects Meenakshi and that's what drove her to file for divorce. Who tells Balamany that she wants to live and die independent like her mother in law. Thanu Pillai suffers another heart attack but he is cared by Meenakshi and recovers. Next day in court, Thanu Pillai, Sarath and Balamany is hopeful that Meenakshi Amma will withdraw her divorce petition as she took care of Thanu Pillai when he was ill. But she insists in court that she wants divorce. A pained Thanu Pillai agrees to all demands of Meenakshi in court. On his way back home with Sarath, he reveals to his son that he was abusive towards Meenakshi and Kali Pillai because he was afraid of them due to his father's fate. He tells his son that Balamany is a strong woman and approves of their relationship, but he also advises his son to never be scared of her, and that fearing his wife made him try to put her under his feet always, which was a mistake. When they reach home, Thanu Pillai and Sarath are surprised to find Meenakshi at home. She had prepared a sweet dish and hands it over to Thanu and says she will come to look after him when he is not well, but not as a wife. Meenakshi who is now free woman now, spends rest of her life in the house Kali Pillai had gifted her, with pride and self-respect like Kali Pillai did.\n",
            "\n",
            "\n",
            "== Cast ==\n",
            "Lal as Thanu Pillai and his father Sivan Pillai (Double role)\n",
            "Asif Ali as Sarath  [['Ozhimuri']]\n",
            "INFO:     103.149.158.107:0 - \"POST / HTTP/1.1\" 200 OK\n",
            "data=[['Picket 47']]\n",
            "Picket Fences is an American television drama series created by David E. Kelley and produced by David E. Kelley Productions, 20th Television and 20th Century Fox Television. The series tells the story of Rome, Wisconsin, a fictional small town with strange phenomenon and weird criminal activity, producing cases that the police, headed by Sheriff Jimmy Brock, are tasked with solving. Picket Fences aired on CBS from September 18, 1992 to June 26, 1996, broadcasting 88 episodes over four seasons during its initial run.\n",
            "During the series' run, Picket Fences received nominations for a variety of different awards, including 27 Emmy Awards (with 14 wins), nine Golden Globe Awards (with one win), four Screen Actors Guild Awards (with one win), 2 Directors Guild of America Awards (with one win), and 22 Q Awards (with seven wins). Kathy Baker, who plays lead female character Jill Brock, received the most individual awards and nominations, won 3 Emmy Awards, a Golden Globe award, a SAG award, and 2 Q awards.\n",
            "\n",
            "\n",
            "== Awards and nominations ==\n",
            "\n",
            "\n",
            "=== Emmy Awards ===\n",
            "\n",
            "Picket Fences received 27 Primetime Emmy Award nominations, with fourteen wins — twelve Primetime and two Creative Arts. The series won the award for Outstanding Drama Series in 1993 and 1994. Kathy Baker won the award for Outstanding Lead Actress in a Drama Series in 1993, 1995 and 1996, and received a nomination for the award in 1994. Tom Skerritt won the award for Outstanding Lead Actor in a Drama Series in 1993 and was nominated for the award in 1994. The series won the award for Outstanding Supporting Actor in a Drama Series three times, with Fyvush Finkel receiving the award in 1994 and Ray Walston winning the award in 1995 and 1996. Leigh Taylor-Young won the award for Outstanding Supporting Actress in a Drama Series in 1994. Picket Fences also won the award for Outstanding Guest Actor in a Drama Series twice, with Richard Kiley winning in 1994 and Paul Winfield winning in 1995. The two Creative Arts Emmy Awards the series won were for Outstanding Individual Achievement in Costuming for a Series in 1994 and 1995.\n",
            "\n",
            "\n",
            "==== Primetime Emmy Awards ====\n",
            "\n",
            "\n",
            "==== Creative Arts Emmy Awards ====\n",
            "\n",
            "\n",
            "=== Golden Globe Awards ===\n",
            "\n",
            "Picket Fences received nine Golden Globe Award nominations during its tenure, with one win for Best Actress – Television Series Drama for Kathy Baker.\n",
            "\n",
            "\n",
            "=== Screen Actors Guild Awards ===\n",
            "Picket Fences received four Screen Actors Guild Award nominations, winning one for Outstanding Performance by a Female Actor in a Drama Series, awarded to Kathy Baker.\n",
            "\n",
            "\n",
            "=== Viewers for Quality Television Awards ===\n",
            "During its tenure, Picket Fences received 22 nominations for a Q award, presented by Viewers for Quality Television. The series won seven awards: one for Best Quality Drama Series; two for Best Actress in a Quality Drama Series, awarded to Kathy Baker; one for Best Supporting Actor in a Quality Drama Series, awarded to Fyvush Finkel; one for Best Supporting Actress in a Quality Drama Series, awarded to Lauren Holly; one for Best Recurring Player, awarded to Amy Aquino; and one for Specialty Player, awarded to Ray Walston.\n",
            "\n",
            "\n",
            "=== Young Artist Awards ===\n",
            "Picket Fences received 8 nominations for a Young Artist Award, winning two awards – one for Best Young Actress in a New Television Series, awarded to Holly Marie Combs and one for Best Youth Actor Recurring or Regular in a TV Series, awarded to Adam Wylie.\n",
            "\n",
            "\n",
            "=== Other awards ===\n",
            "\n",
            "\n",
            "== References ==\n",
            "\n",
            "\n",
            "== External links ==\n",
            "List of Primetime Emmy Awards received by Picket Fences\n",
            "List of awards and nominations received by Picket Fences at the Internet Movie Database [['Picket 47']]\n",
            "INFO:     103.149.158.107:0 - \"POST / HTTP/1.1\" 200 OK\n",
            "data=[['Parasite']]\n"
          ]
        }
      ]
    },
    {
      "cell_type": "code",
      "source": [
        ""
      ],
      "metadata": {
        "id": "jm_pB4B1NqgC"
      },
      "execution_count": null,
      "outputs": []
    }
  ],
  "metadata": {
    "colab": {
      "name": "main.ipynb",
      "provenance": [],
      "collapsed_sections": [],
      "authorship_tag": "ABX9TyPzrgQhz79awPQ0dq/l61sf",
      "include_colab_link": true
    },
    "kernelspec": {
      "display_name": "Python 3",
      "name": "python3"
    },
    "language_info": {
      "name": "python"
    }
  },
  "nbformat": 4,
  "nbformat_minor": 0
}